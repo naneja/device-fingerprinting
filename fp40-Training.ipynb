{
 "cells": [
  {
   "cell_type": "markdown",
   "metadata": {},
   "source": [
    "## Initialization for Training and Analysis"
   ]
  },
  {
   "cell_type": "code",
   "execution_count": 1,
   "metadata": {},
   "outputs": [],
   "source": [
    "%matplotlib inline\n",
    "%config InlineBackend.figure_format = 'retina'\n",
    "%load_ext autoreload\n",
    "%autoreload 2\n",
    "\n",
    "import os, re, json, time, copy, csv, glob, itertools, pickle, warnings, shutil\n",
    "\n",
    "import numpy as np\n",
    "from numpy import genfromtxt\n",
    "\n",
    "import pandas as pd\n",
    "from pandas.tools.plotting import table\n",
    "pd.options.display.max_columns = 100\n",
    "\n",
    "import matplotlib.pyplot as plt\n",
    "\n",
    "warnings.simplefilter(action='ignore', category=FutureWarning)\n",
    "from pathlib import Path\n",
    "\n",
    "import helper as ksn"
   ]
  },
  {
   "cell_type": "code",
   "execution_count": null,
   "metadata": {},
   "outputs": [],
   "source": [
    "datasets = 'D1-IsolatedNetworkPassiveDFP'\n",
    "datasets = 'D21-CampusNetworkActiveDFP'\n",
    "datasets = 'D22-CampusNetworkPassiveDFP'"
   ]
  },
  {
   "cell_type": "code",
   "execution_count": 2,
   "metadata": {},
   "outputs": [],
   "source": [
    "home = str(Path.home())\n",
    "#data_folder = 'datasets'\n",
    "data_folder = os.path.join(home, 'N', 'fingerprinting', datasets)\n",
    "out_folder = 'r_' + datasets\n",
    "\n",
    "sample = 'yes'\n",
    "sample_size = 5\n",
    "batch = 128\n",
    "epochs = 20\n",
    "\n",
    "f1 = os.path.join(out_folder, 'results_training.pkl')\n",
    "f2 = os.path.join(out_folder, 'results_testing.pkl')\n",
    "f3 = os.path.join(out_folder, 'data.pkl')\n",
    "\n",
    "if sample == 'yes':\n",
    "    epochs = 2\n",
    "data_dirs = [os.path.join(data_folder, i) for i in sorted(os.listdir(data_folder)) if not i.startswith('.')]\n",
    "Loss, Accuracy, Time = 0, 1, 2"
   ]
  },
  {
   "cell_type": "markdown",
   "metadata": {},
   "source": [
    "## Training Model"
   ]
  },
  {
   "cell_type": "code",
   "execution_count": 3,
   "metadata": {},
   "outputs": [
    {
     "name": "stdout",
     "output_type": "stream",
     "text": [
      "Total Datasets are 30\n"
     ]
    }
   ],
   "source": [
    "data = dict()\n",
    "for data_dir in data_dirs:\n",
    "    n_files = []\n",
    "    n_files.append(len(os.listdir(os.path.join(data_dir, 'training'))))\n",
    "    n_files.append(len(glob.glob(os.path.join(data_dir, 'training' , '*', '*.png'))))\n",
    "    n_files.append(len(os.listdir(os.path.join(data_dir, 'testing'))))\n",
    "    n_files.append(len(glob.glob(os.path.join(data_dir, 'testing' , '*', '*.png'))))\n",
    "    data[data_dir] = n_files\n",
    "print('Total Datasets are {}'.format(len(data_dirs)))\n",
    "#print(data)"
   ]
  },
  {
   "cell_type": "code",
   "execution_count": 4,
   "metadata": {},
   "outputs": [],
   "source": [
    "#for dr in data_dirs:\n",
    "#    if os.path.exists(os.path.join(dr, 'results.csv')):\n",
    "#        cmd = \"rm \" + os.path.join(dr, 'results.csv')\n",
    "#        os.system(cmd)\n",
    "\n",
    "if os.path.exists(out_folder):\n",
    "    print(out_folder + ' already exists')\n",
    "    assert False\n",
    "    #os.system(\"rm -r results\")\n",
    "    os.system(\"mkdir \" + out_folder)\n",
    "else:\n",
    "    os.system(\"mkdir \" + out_folder)"
   ]
  },
  {
   "cell_type": "code",
   "execution_count": 5,
   "metadata": {
    "scrolled": false
   },
   "outputs": [
    {
     "name": "stdout",
     "output_type": "stream",
     "text": [
      "\n",
      "Processing /home/ksn/N/fingerprinting/datasets/Iperf_Tcp_Case1_Passive with classes 7\n",
      "Best Testing Accuracy 0.006\n",
      "\n",
      "Processing /home/ksn/N/fingerprinting/datasets/Iperf_Tcp_Case1_Passive_ID with classes 36\n",
      "Best Testing Accuracy 0.001\n",
      "\n",
      "Processing /home/ksn/N/fingerprinting/datasets/Iperf_Tcp_Case2_Isolated with classes 5\n",
      "Best Testing Accuracy 0.015\n",
      "\n",
      "Processing /home/ksn/N/fingerprinting/datasets/Iperf_Tcp_Case2_Isolated_ID with classes 14\n",
      "Best Testing Accuracy 0.007\n",
      "\n",
      "Processing /home/ksn/N/fingerprinting/datasets/Iperf_Tcp_Case2_Passive with classes 5\n",
      "Best Testing Accuracy 0.043\n",
      "\n",
      "Processing /home/ksn/N/fingerprinting/datasets/Iperf_Tcp_Case2_Passive_ID with classes 14\n",
      "Best Testing Accuracy 0.022\n",
      "\n",
      "Processing /home/ksn/N/fingerprinting/datasets/Iperf_Udp_Case1_Isolated with classes 5\n",
      "Best Testing Accuracy 0.265\n",
      "\n",
      "Processing /home/ksn/N/fingerprinting/datasets/Iperf_Udp_Case1_Isolated_ID with classes 14\n",
      "Best Testing Accuracy 0.060\n",
      "\n",
      "Processing /home/ksn/N/fingerprinting/datasets/Iperf_Udp_Case1_Passeive_ID with classes 34\n",
      "Best Testing Accuracy 0.000\n",
      "\n",
      "Processing /home/ksn/N/fingerprinting/datasets/Iperf_Udp_Case1_Passive with classes 6\n",
      "Best Testing Accuracy 0.005\n",
      "\n",
      "Processing /home/ksn/N/fingerprinting/datasets/Iperf_Udp_Case3_Isolated with classes 5\n",
      "Best Testing Accuracy 0.013\n",
      "\n",
      "Processing /home/ksn/N/fingerprinting/datasets/Iperf_Udp_Case3_Isolated_ID with classes 14\n",
      "Best Testing Accuracy 0.004\n",
      "\n",
      "Processing /home/ksn/N/fingerprinting/datasets/Iperf_Udp_Case4_Passive with classes 6\n",
      "Best Testing Accuracy 0.011\n",
      "\n",
      "Processing /home/ksn/N/fingerprinting/datasets/Iperf_Udp_Case4_Passive_ID with classes 34\n",
      "Best Testing Accuracy 0.002\n",
      "\n",
      "Processing /home/ksn/N/fingerprinting/datasets/Ping_Icmp_Case1_Active with classes 11\n",
      "Best Testing Accuracy 0.042\n",
      "\n",
      "Processing /home/ksn/N/fingerprinting/datasets/Ping_Icmp_Case1_Active_ID with classes 44\n",
      "Best Testing Accuracy 0.006\n",
      "\n",
      "Processing /home/ksn/N/fingerprinting/datasets/Ping_Icmp_Case1_Isolated with classes 5\n",
      "Best Testing Accuracy 0.189\n",
      "\n",
      "Processing /home/ksn/N/fingerprinting/datasets/Ping_Icmp_Case1_Isolated_ID with classes 12\n",
      "Best Testing Accuracy 0.046\n",
      "\n",
      "Processing /home/ksn/N/fingerprinting/datasets/Ping_Icmp_Case1_Passive with classes 7\n",
      "Best Testing Accuracy 0.052\n",
      "\n",
      "Processing /home/ksn/N/fingerprinting/datasets/Ping_Icmp_Case1_Passive_ID with classes 36\n",
      "Best Testing Accuracy 0.008\n",
      "\n",
      "Processing /home/ksn/N/fingerprinting/datasets/Ping_Icmp_Case2_Active with classes 11\n",
      "Best Testing Accuracy 0.033\n",
      "\n",
      "Processing /home/ksn/N/fingerprinting/datasets/Ping_Icmp_Case2_Active_ID with classes 44\n",
      "Best Testing Accuracy 0.006\n",
      "\n",
      "Processing /home/ksn/N/fingerprinting/datasets/Ping_Icmp_Case2_Isolated with classes 6\n",
      "Best Testing Accuracy 0.216\n",
      "\n",
      "Processing /home/ksn/N/fingerprinting/datasets/Ping_Icmp_Case2_Isolated_ID with classes 12\n",
      "Best Testing Accuracy 0.105\n",
      "\n",
      "Processing /home/ksn/N/fingerprinting/datasets/Ping_Icmp_Case2_Passive with classes 7\n",
      "Best Testing Accuracy 0.066\n",
      "\n",
      "Processing /home/ksn/N/fingerprinting/datasets/Ping_Icmp_Case3_Passive_ID with classes 36\n",
      "Best Testing Accuracy 0.006\n",
      "\n",
      "Processing /home/ksn/N/fingerprinting/datasets/Scp_Tcp_Case1_Passive with classes 7\n",
      "Best Testing Accuracy 0.006\n",
      "\n",
      "Processing /home/ksn/N/fingerprinting/datasets/Scp_Tcp_Case1_Passive_ID with classes 36\n",
      "Best Testing Accuracy 0.001\n",
      "\n",
      "Processing /home/ksn/N/fingerprinting/datasets/Scp_Tcp_Case4_Isolated with classes 5\n",
      "Best Testing Accuracy 0.058\n",
      "\n",
      "Processing /home/ksn/N/fingerprinting/datasets/Scp_Tcp_Case4_Isolated_ID with classes 14\n",
      "Best Testing Accuracy 0.014\n"
     ]
    }
   ],
   "source": [
    "results_training = dict()\n",
    "results_testing = dict()\n",
    "for dr in data_dirs:\n",
    "    classes = data[dr][0]\n",
    "    print(), print('Processing {} with classes {}'.format(dr, classes))\n",
    "\n",
    "    image_datasets, dataloaders = \\\n",
    "        ksn.get_dataloader(os.path.join(dr, 'training'), os.path.join(dr, 'testing'), batch)\n",
    "    \n",
    "    training_loss, testing_loss, training_accuracy, \\\n",
    "    testing_accuracy, training_time, testing_time, \\\n",
    "    all_labels_flat, all_preds_flat = \\\n",
    "        ksn.train_model(image_datasets, dataloaders, dr, out_folder, classes, sample=sample, epochs=epochs)\n",
    "    \n",
    "    results_training[dr] = [training_loss, training_accuracy, training_time]\n",
    "    results_testing[dr] = [testing_loss, testing_accuracy, testing_time]\n",
    "    \n",
    "    with open(f1, 'wb') as f:\n",
    "        pickle.dump(results_training, f, pickle.HIGHEST_PROTOCOL)\n",
    "\n",
    "    with open(f2, 'wb') as f:\n",
    "        pickle.dump(results_testing, f, pickle.HIGHEST_PROTOCOL)\n",
    "\n",
    "    with open(f3, 'wb') as f:\n",
    "        pickle.dump(data, f, pickle.HIGHEST_PROTOCOL)"
   ]
  },
  {
   "cell_type": "code",
   "execution_count": null,
   "metadata": {},
   "outputs": [],
   "source": [
    "with open(f1, 'wb') as f:\n",
    "    pickle.dump(results_training, f, pickle.HIGHEST_PROTOCOL)\n",
    "\n",
    "with open(f2, 'wb') as f:\n",
    "    pickle.dump(results_testing, f, pickle.HIGHEST_PROTOCOL)\n",
    "\n",
    "with open(f3, 'wb') as f:\n",
    "    pickle.dump(data, f, pickle.HIGHEST_PROTOCOL)"
   ]
  },
  {
   "cell_type": "code",
   "execution_count": null,
   "metadata": {},
   "outputs": [],
   "source": [
    "#print(results_training)\n",
    "#print()\n",
    "#print(results_testing)"
   ]
  }
 ],
 "metadata": {
  "kernelspec": {
   "display_name": "Python 3",
   "language": "python",
   "name": "python3"
  },
  "language_info": {
   "codemirror_mode": {
    "name": "ipython",
    "version": 3
   },
   "file_extension": ".py",
   "mimetype": "text/x-python",
   "name": "python",
   "nbconvert_exporter": "python",
   "pygments_lexer": "ipython3",
   "version": "3.6.6"
  }
 },
 "nbformat": 4,
 "nbformat_minor": 2
}
